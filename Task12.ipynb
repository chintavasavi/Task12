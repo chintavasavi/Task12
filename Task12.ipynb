{
 "cells": [
  {
   "cell_type": "markdown",
   "id": "6d54e70e",
   "metadata": {},
   "source": [
    "while loops and their use in programming.\n",
    "\n",
    "Write a Python program that uses a while loop to print the numbers from A to P."
   ]
  },
  {
   "cell_type": "code",
   "execution_count": 1,
   "id": "f273d8a2",
   "metadata": {},
   "outputs": [
    {
     "name": "stdout",
     "output_type": "stream",
     "text": [
      "A\n",
      "B\n",
      "C\n",
      "D\n",
      "E\n",
      "F\n",
      "G\n",
      "H\n",
      "I\n",
      "J\n",
      "K\n",
      "L\n",
      "M\n",
      "N\n",
      "O\n",
      "P\n"
     ]
    }
   ],
   "source": [
    "a = 1\n",
    "\n",
    "while a<= 16:\n",
    "    print(chr(64+a))\n",
    "    a = a+1"
   ]
  },
  {
   "cell_type": "markdown",
   "id": "185fdd7c",
   "metadata": {},
   "source": [
    "2.Modify the program to print only the even numbers from 1 to 20 except mutiple of 3 using a while loop.\n",
    "\n"
   ]
  },
  {
   "cell_type": "code",
   "execution_count": 11,
   "id": "cbc23714",
   "metadata": {},
   "outputs": [
    {
     "name": "stdout",
     "output_type": "stream",
     "text": [
      "2\n",
      "4\n",
      "8\n",
      "10\n",
      "14\n",
      "16\n",
      "20\n"
     ]
    }
   ],
   "source": [
    "a = 1\n",
    "\n",
    "while a<=20:\n",
    "    if(a%2==0) and (a%3!=0):\n",
    "        print(a)\n",
    "    a = a+1\n",
    "    "
   ]
  },
  {
   "cell_type": "markdown",
   "id": "87143ac7",
   "metadata": {},
   "source": [
    "3.Create a program that prompts the user for an integer input and then uses a while loop to print the countdown from that number to 1."
   ]
  },
  {
   "cell_type": "code",
   "execution_count": 1,
   "id": "21bd774b",
   "metadata": {},
   "outputs": [
    {
     "name": "stdout",
     "output_type": "stream",
     "text": [
      "enter a number :: 15\n",
      "15\n",
      "14\n",
      "13\n",
      "12\n",
      "11\n",
      "10\n",
      "9\n",
      "8\n",
      "7\n",
      "6\n",
      "5\n",
      "4\n",
      "3\n",
      "2\n",
      "1\n"
     ]
    }
   ],
   "source": [
    "n = int(input(\"enter a number :: \"))\n",
    "\n",
    "while n:\n",
    "    print(n)\n",
    "    n = n - 1"
   ]
  },
  {
   "cell_type": "markdown",
   "id": "e1342d14",
   "metadata": {},
   "source": [
    "4.Write a Python program that uses a while loop to repeatedly ask the user to enter a number. If the user enters 0, exit the loop using the break statement. Otherwise, continue prompting for numbers."
   ]
  },
  {
   "cell_type": "code",
   "execution_count": null,
   "id": "18892520",
   "metadata": {},
   "outputs": [],
   "source": [
    "n = int(input(\"enter a number :: \"))\n",
    "\n",
    "while n != 0 :\n",
    "    n = int(input(\"enter a number :: \"))\n",
    "    continue\n",
    "    if n == 0:\n",
    "        break"
   ]
  },
  {
   "cell_type": "code",
   "execution_count": 1,
   "id": "9d1dedfa",
   "metadata": {},
   "outputs": [
    {
     "name": "stdout",
     "output_type": "stream",
     "text": [
      "enter a number :: 8\n",
      "enter a number :: 4\n",
      "enter a number :: 1\n",
      "enter a number :: 0\n"
     ]
    }
   ],
   "source": [
    "n = int(input(\"enter a number :: \"))\n",
    "\n",
    "while n!= 0:\n",
    "    n = int(input(\"enter a number :: \"))\n",
    "    continue\n",
    "    if n==0:\n",
    "        break"
   ]
  },
  {
   "cell_type": "markdown",
   "id": "8295773e",
   "metadata": {},
   "source": [
    "5.Create a program that uses a while loop to print the numbers from 1 to 20, but skip printing the numbers 5, 10, and 15 using the continue statement."
   ]
  },
  {
   "cell_type": "code",
   "execution_count": 1,
   "id": "0c7dadaf",
   "metadata": {},
   "outputs": [
    {
     "name": "stdout",
     "output_type": "stream",
     "text": [
      "1\n",
      "2\n",
      "3\n",
      "4\n",
      "6\n",
      "7\n",
      "8\n",
      "9\n",
      "11\n",
      "12\n",
      "13\n",
      "14\n",
      "16\n",
      "17\n",
      "18\n",
      "19\n",
      "20\n"
     ]
    }
   ],
   "source": [
    "n = 0\n",
    "\n",
    "while n<20:\n",
    "    n= n+1\n",
    "    if (n==5) or (n==10) or (n==15):\n",
    "        continue\n",
    "    else:\n",
    "        print(n)"
   ]
  },
  {
   "cell_type": "markdown",
   "id": "4fd215f9",
   "metadata": {},
   "source": [
    "6.Write a Python program that simulates a simple password entry system. Ask the user to enter a password, and use a while loop to repeatedly prompt for the password until the correct password \"abc123\" is entered. Once the correct password is entered, exit the loop."
   ]
  },
  {
   "cell_type": "code",
   "execution_count": 2,
   "id": "b3953d29",
   "metadata": {},
   "outputs": [
    {
     "name": "stdout",
     "output_type": "stream",
     "text": [
      "enter your password ::vhij\n",
      "enter your password ::chid\n",
      "enter your password ::aocd\n",
      "enter your password ::abc123\n"
     ]
    }
   ],
   "source": [
    "password = \"abc123\"\n",
    "while password:\n",
    "    pass_word = input(\"enter your password ::\")\n",
    "    if password == pass_word:\n",
    "        break\n",
    "    else:\n",
    "        continue\n",
    "        "
   ]
  },
  {
   "cell_type": "markdown",
   "id": "7303b17f",
   "metadata": {},
   "source": [
    "7.Calculate and print the sum of all the positive integers entered by the user."
   ]
  },
  {
   "cell_type": "code",
   "execution_count": null,
   "id": "ace4278c",
   "metadata": {},
   "outputs": [],
   "source": [
    "num = int(input(\"enter the number :: \"))\n",
    "total = num\n",
    "while num :\n",
    "    if num > 0:\n",
    "        num = int(input(\"enter the number :: \"))\n",
    "        total = total + num\n",
    "        print(total)\n",
    "    else:\n",
    "        break"
   ]
  },
  {
   "cell_type": "code",
   "execution_count": 6,
   "id": "cc8a846e",
   "metadata": {},
   "outputs": [
    {
     "name": "stdout",
     "output_type": "stream",
     "text": [
      "enter the number :: 8\n",
      "enter the number :: 20\n",
      "28\n",
      "enter the number :: 10\n",
      "38\n",
      "enter the number :: 0\n",
      "38\n"
     ]
    }
   ],
   "source": [
    "num = int(input(\"enter the number :: \"))\n",
    "total = num\n",
    "while num :\n",
    "    if num > 0:\n",
    "        num = int(input(\"enter the number :: \"))\n",
    "        total = total + num\n",
    "        print(total)\n",
    "    else:\n",
    "        break"
   ]
  },
  {
   "cell_type": "code",
   "execution_count": null,
   "id": "72bdf6b4",
   "metadata": {},
   "outputs": [],
   "source": []
  }
 ],
 "metadata": {
  "kernelspec": {
   "display_name": "Python 3 (ipykernel)",
   "language": "python",
   "name": "python3"
  },
  "language_info": {
   "codemirror_mode": {
    "name": "ipython",
    "version": 3
   },
   "file_extension": ".py",
   "mimetype": "text/x-python",
   "name": "python",
   "nbconvert_exporter": "python",
   "pygments_lexer": "ipython3",
   "version": "3.11.4"
  }
 },
 "nbformat": 4,
 "nbformat_minor": 5
}
